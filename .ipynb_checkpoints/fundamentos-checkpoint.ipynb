{
 "cells": [
  {
   "cell_type": "markdown",
   "id": "8ab922b1-6555-4cb2-9b8d-c8eacfd14fbb",
   "metadata": {},
   "source": [
    "# Primeiros Exemplos\n",
    "\n",
    "\n",
    "\n"
   ]
  },
  {
   "cell_type": "code",
   "execution_count": null,
   "id": "88460259-255a-4817-a46c-5943fe104751",
   "metadata": {},
   "outputs": [],
   "source": [
    "print('Primeiro Programa')\n",
    "1 \\\n",
    " + 2\n",
    "help(print)"
   ]
  },
  {
   "cell_type": "code",
   "execution_count": null,
   "id": "3075f596-c954-40b4-b762-d8ca0b4ec544",
   "metadata": {},
   "outputs": [],
   "source": [
    "print(1 + 2 + 3)\n",
    "print(4 + 5 + 6) "
   ]
  },
  {
   "cell_type": "markdown",
   "id": "5165e967-c711-4fde-94d8-2b0c75e57b4d",
   "metadata": {},
   "source": [
    "# Tipos Básicos"
   ]
  },
  {
   "cell_type": "code",
   "execution_count": null,
   "id": "039b8a74-c72c-4e4c-bcba-442d8aa81641",
   "metadata": {},
   "outputs": [],
   "source": [
    "print(True)\n",
    "print(False)\n",
    "print(1.2 + 1)\n",
    "print('Aqui eu falo a minha lingua!!!!')\n",
    "print(\"TBM funciona\")\n",
    "print('Você é '+ 3 *  'muito' +  'legal!')\n",
    "#print(3 + '3') -> anbiguidade\n",
    "print([1, 2, 3])\n",
    "print({'nome': 'Pedro','idade': 22})\n",
    "print(None)"
   ]
  },
  {
   "cell_type": "markdown",
   "id": "2418a634-cbb2-4226-b4a2-7e33c973f7e2",
   "metadata": {},
   "source": [
    "# Variáveis"
   ]
  },
  {
   "cell_type": "code",
   "execution_count": null,
   "id": "9baea8a9-d839-4db0-8e61-b9827dd2157b",
   "metadata": {},
   "outputs": [],
   "source": [
    "a = 10\n",
    "b = 5.2\n",
    "print(a + b)\n",
    "a = 'Agora eu sou uma string'\n",
    "print(a)\n",
    "a\n",
    "b"
   ]
  },
  {
   "cell_type": "markdown",
   "id": "9c79c02c-4e2c-4354-8459-6ddc266b3f7a",
   "metadata": {},
   "source": [
    "# Comentarios"
   ]
  },
  {
   "cell_type": "code",
   "execution_count": null,
   "id": "8043c268-3c6c-4a69-ae28-5bff99688720",
   "metadata": {},
   "outputs": [],
   "source": [
    "# vkjbds\n",
    "# jndvjlfsnvljçna\n",
    "# lfnvljçafjldnvljosdfçouj\n",
    "# minhas variáveis\n",
    "salario = 3450.45\n",
    "despesas = 2456.2\n",
    "\"\"\" a idéia é calcular quanto\n",
    "vai sobre no final do mês\n",
    "\"\"\"\n",
    "print(salario - despesas)\n",
    "\n",
    "# print('FIM')\n",
    "print('Fim de verdade') #comentario aqui também vale!!!\n",
    "\n",
    "''' a idéia é calcular quanto\n",
    "vai sobre no final do mês\n",
    "'''\n",
    "print('Agora sim o fim de verdade') #comentario aqui também vale!!!"
   ]
  },
  {
   "cell_type": "markdown",
   "id": "21c2c687-c0b1-4e0e-a8ca-b4e3cd720109",
   "metadata": {},
   "source": [
    "# Operadores Aritiméticos"
   ]
  },
  {
   "cell_type": "code",
   "execution_count": null,
   "id": "f88806c3-72d7-4206-8371-7af2cb8aa652",
   "metadata": {},
   "outputs": [],
   "source": [
    "print(2 + 3)\n",
    "print(4 - 7)\n",
    "print(2 * 5.3)\n",
    "print(9.4 / 3)\n",
    "print(9.4 // 3)\n",
    "print(2 ** 8)\n",
    "print(10 % 3)\n",
    "a = 12\n",
    "b = a\n",
    "print(a + b)"
   ]
  },
  {
   "cell_type": "markdown",
   "id": "0a9bb184-e61e-408d-9cac-c12a5f3fdd64",
   "metadata": {},
   "source": [
    "# Operadores Relacionais"
   ]
  },
  {
   "cell_type": "code",
   "execution_count": null,
   "id": "8036b648-0d08-4c8f-9145-d65fa6f2f11a",
   "metadata": {},
   "outputs": [],
   "source": [
    "3 > 4\n",
    "4 >= 3\n",
    "1 < 2\n",
    "3 <= 1\n",
    "3 != 2\n",
    "3 == 3\n",
    "2 == '3'# int + uma string"
   ]
  },
  {
   "cell_type": "markdown",
   "id": "1a2ccd3c-6970-4b97-a817-bda1f1e2913f",
   "metadata": {},
   "source": [
    "# Operadoes de Atribuição"
   ]
  },
  {
   "cell_type": "code",
   "execution_count": null,
   "id": "bce9d247-f1c0-47a8-a014-0ee5d4a34ea2",
   "metadata": {},
   "outputs": [],
   "source": [
    "a = 3\n",
    "a = a + 7\n",
    "print (a)\n",
    "a +=5\n",
    "print(a)\n",
    "a -= 3\n",
    "print(a)\n",
    "a *= 2\n",
    "print(a)\n",
    "a /= 4\n",
    "print(a)\n",
    "a %= 4\n",
    "print(a)\n",
    "a **= 8\n",
    "print(a)\n",
    "a //= 256\n",
    "print(a)"
   ]
  },
  {
   "cell_type": "markdown",
   "id": "5aed61f5-c514-4f08-a4bf-8f659d8d3c04",
   "metadata": {},
   "source": [
    "# Operadores Lógicos"
   ]
  },
  {
   "cell_type": "code",
   "execution_count": null,
   "id": "e51d0623-99b2-40ea-aea3-44dd47f583bc",
   "metadata": {},
   "outputs": [],
   "source": [
    "True or False\n",
    "7 != 3 and 2 > 3\n",
    "\n",
    "# Tabela da verdade do AND\n",
    "\n",
    "True and True\n",
    "True and False\n",
    "False and True\n",
    "False and False\n",
    "True and True and True and True and True and True\n",
    "True and True and True and False and True and True\n",
    "\n",
    "# Tabela da verdade do OR\n",
    "True or True\n",
    "True or False\n",
    "False or True\n",
    "False or False\n",
    "False or False or True or False or False or False\n",
    "\n",
    "# tabela da verdade XOR\n",
    "True != True\n",
    "True != False\n",
    "False != True\n",
    "False != False\n",
    "\n",
    "# Operador de negação (unário)\n",
    "not True\n",
    "not False\n",
    "not 0\n",
    "not 1\n",
    "not not -1\n",
    "not not True\n",
    "\n",
    "# cuidado!\n",
    "True & True\n",
    "False | True\n",
    "True ^ False"
   ]
  },
  {
   "cell_type": "markdown",
   "id": "eb300502-39f7-491f-b561-e5c8a5353244",
   "metadata": {},
   "source": [
    "# Operadores Unários"
   ]
  },
  {
   "cell_type": "code",
   "execution_count": null,
   "id": "1aa9d36e-6c3f-4e3b-8a37-fa9c2d4b3ce5",
   "metadata": {},
   "outputs": [],
   "source": [
    "a = 3\n",
    "# a++\n",
    "# a +=1\n",
    "# a\n",
    "# a--\n",
    "++a\n",
    "++a\n",
    "-a\n",
    "+a\n",
    "\n",
    "not 0\n",
    "not 1\n",
    "not -2\n",
    "not False\n",
    "not not True"
   ]
  },
  {
   "cell_type": "markdown",
   "id": "cebe0579-d0bb-434f-8407-47181522503a",
   "metadata": {},
   "source": [
    "# Operadores Ternários"
   ]
  },
  {
   "cell_type": "code",
   "execution_count": null,
   "id": "6e891946-c178-48fe-a902-f7ac7c8326d1",
   "metadata": {},
   "outputs": [],
   "source": [
    "estaChovendo = True\n",
    "print('Hoje estou com as roupas ' + ('secas.', 'molhadas.')[estaChovendo])\n",
    "estaChovendo = False\n",
    "print('Hoje estou com as roupas ' + ('secas.', 'molhadas.')[estaChovendo])\n",
    "estaChovendo = True\n",
    "print('Hoje estou com as roupas ' + ('molhadas.' if estaChovendo else 'secas.'))\n",
    "estaChovendo = False\n",
    "print('Hoje estou com as roupas ' + ('molhadas.' if estaChovendo else 'secas.'))"
   ]
  },
  {
   "cell_type": "markdown",
   "id": "5d8a89a5-0664-4d20-964a-d68e2275c66d",
   "metadata": {},
   "source": [
    "# Mais Operadores"
   ]
  },
  {
   "cell_type": "code",
   "execution_count": null,
   "id": "115aa3a5-a42c-4f53-a897-d208481e0ac7",
   "metadata": {},
   "outputs": [],
   "source": [
    "# Operadores de Menbros\n",
    "\n",
    "lista = [1, 2, 3, 'Ana', 'Carla']\n",
    "print(2 in lista)\n",
    "print('Ana' not in lista)\n",
    "\n",
    "# Operadores de Identidade\n",
    "x = 3 \n",
    "y = x\n",
    "z = 3\n",
    "\n",
    "print(x is y)\n",
    "print(y is z)\n",
    "print(x is not z)\n",
    "\n",
    "listaA = [1, 2, 3]\n",
    "listaB = listaA\n",
    "listaC = [1, 2, 3]\n",
    "\n",
    "print(listaA is listaB)\n",
    "print(listaB is listaC)\n",
    "print(listaA is not listaC)"
   ]
  },
  {
   "cell_type": "markdown",
   "id": "99943017-01ea-4a59-90c6-5f623c35fcfb",
   "metadata": {},
   "source": [
    "# Builtins"
   ]
  },
  {
   "cell_type": "code",
   "execution_count": 25,
   "id": "413e49f7-3162-42b5-ad20-766871ff9cd4",
   "metadata": {},
   "outputs": [
    {
     "name": "stdout",
     "output_type": "stream",
     "text": [
      "3.3333333333333335\n"
     ]
    },
    {
     "data": {
      "text/plain": [
       "['In',\n",
       " 'Out',\n",
       " '_',\n",
       " '_1',\n",
       " '_10',\n",
       " '_11',\n",
       " '_12',\n",
       " '_14',\n",
       " '_16',\n",
       " '_17',\n",
       " '_18',\n",
       " '_2',\n",
       " '_20',\n",
       " '_22',\n",
       " '_23',\n",
       " '_24',\n",
       " '_4',\n",
       " '_6',\n",
       " '_8',\n",
       " '_9',\n",
       " '__',\n",
       " '___',\n",
       " '__builtin__',\n",
       " '__builtins__',\n",
       " '__doc__',\n",
       " '__loader__',\n",
       " '__name__',\n",
       " '__package__',\n",
       " '__pandas',\n",
       " '__session__',\n",
       " '__spec__',\n",
       " '_dh',\n",
       " '_i',\n",
       " '_i1',\n",
       " '_i10',\n",
       " '_i11',\n",
       " '_i12',\n",
       " '_i13',\n",
       " '_i14',\n",
       " '_i15',\n",
       " '_i16',\n",
       " '_i17',\n",
       " '_i18',\n",
       " '_i19',\n",
       " '_i2',\n",
       " '_i20',\n",
       " '_i21',\n",
       " '_i22',\n",
       " '_i23',\n",
       " '_i24',\n",
       " '_i25',\n",
       " '_i3',\n",
       " '_i4',\n",
       " '_i5',\n",
       " '_i6',\n",
       " '_i7',\n",
       " '_i8',\n",
       " '_i9',\n",
       " '_ih',\n",
       " '_ii',\n",
       " '_iii',\n",
       " '_oh',\n",
       " 'dataframe_columns',\n",
       " 'dataframe_hash',\n",
       " 'dtypes_str',\n",
       " 'exit',\n",
       " 'get_dataframes',\n",
       " 'get_ipython',\n",
       " 'getpass',\n",
       " 'hashlib',\n",
       " 'import_pandas_safely',\n",
       " 'is_data_frame',\n",
       " 'json',\n",
       " 'math',\n",
       " 'nome',\n",
       " 'open',\n",
       " 'quit']"
      ]
     },
     "execution_count": 25,
     "metadata": {},
     "output_type": "execute_result"
    }
   ],
   "source": [
    "# type()\n",
    "type(1)\n",
    "__builtins__.type('Fala galera!!!')\n",
    "__builtins__.print(10 / 3)\n",
    "\n",
    "# help(dir)\n",
    "# vai mostrar o que tem no escopo global\n",
    "# dir()\n",
    "\n",
    "# __builtins__.help(__builtins__.dir)\n",
    "\n",
    "# a = 7\n",
    "# import math\n",
    "# dir()\n",
    "# dir(__builtins__)\n",
    "\n",
    "nome = (\"João da Silva\")\n",
    "type(nome)\n",
    "__builtin__.len(nome)\n",
    "dir()"
   ]
  },
  {
   "cell_type": "markdown",
   "id": "90b23098-6e9e-4f55-ae6e-c417715fe7d1",
   "metadata": {},
   "source": [
    "# CONVERSÃO DE TIPOS"
   ]
  },
  {
   "cell_type": "code",
   "execution_count": 56,
   "id": "ced497b0-6c28-47c4-a5cb-905730e52e8a",
   "metadata": {},
   "outputs": [
    {
     "name": "stdout",
     "output_type": "stream",
     "text": [
      "5\n",
      "23\n",
      "<class 'int'>\n",
      "<class 'str'>\n",
      "5\n",
      "23\n",
      "<class 'str'>\n",
      "5.4\n"
     ]
    },
    {
     "ename": "ValueError",
     "evalue": "invalid literal for int() with base 10: '3.4'",
     "output_type": "error",
     "traceback": [
      "\u001b[1;31m---------------------------------------------------------------------------\u001b[0m",
      "\u001b[1;31mValueError\u001b[0m                                Traceback (most recent call last)",
      "Cell \u001b[1;32mIn[56], line 14\u001b[0m\n\u001b[0;32m     12\u001b[0m \u001b[38;5;28mprint\u001b[39m(\u001b[38;5;28mtype\u001b[39m(\u001b[38;5;28mstr\u001b[39m(a)))\n\u001b[0;32m     13\u001b[0m \u001b[38;5;28mprint\u001b[39m(\u001b[38;5;241m2\u001b[39m \u001b[38;5;241m+\u001b[39m \u001b[38;5;28mfloat\u001b[39m(\u001b[38;5;124m'\u001b[39m\u001b[38;5;124m3.4\u001b[39m\u001b[38;5;124m'\u001b[39m))\n\u001b[1;32m---> 14\u001b[0m \u001b[38;5;28mprint\u001b[39m(\u001b[38;5;241m2\u001b[39m \u001b[38;5;241m+\u001b[39m \u001b[38;5;28mint\u001b[39m(\u001b[38;5;124m'\u001b[39m\u001b[38;5;124m3.4\u001b[39m\u001b[38;5;124m'\u001b[39m))\n",
      "\u001b[1;31mValueError\u001b[0m: invalid literal for int() with base 10: '3.4'"
     ]
    }
   ],
   "source": [
    "print(2 + 3)\n",
    "print(\"2\" + \"3\")\n",
    "# print(2 + \"3\")\n",
    "a = 2 \n",
    "b = '3'\n",
    "print(type(a))\n",
    "print(type(b))\n",
    "\n",
    "print(a + int(b))\n",
    "print(str(a) + b)\n",
    "\n",
    "print(type(str(a)))\n",
    "print(2 + float('3.4'))\n",
    "print(2 + int('3.4'))\n"
   ]
  }
 ],
 "metadata": {
  "kernelspec": {
   "display_name": "Python [conda env:anaconda3] *",
   "language": "python",
   "name": "conda-env-anaconda3-py"
  },
  "language_info": {
   "codemirror_mode": {
    "name": "ipython",
    "version": 3
   },
   "file_extension": ".py",
   "mimetype": "text/x-python",
   "name": "python",
   "nbconvert_exporter": "python",
   "pygments_lexer": "ipython3",
   "version": "3.12.7"
  }
 },
 "nbformat": 4,
 "nbformat_minor": 5
}

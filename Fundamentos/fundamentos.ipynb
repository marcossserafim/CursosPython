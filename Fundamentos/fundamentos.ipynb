{
 "cells": [
  {
   "cell_type": "markdown",
   "id": "8ab922b1-6555-4cb2-9b8d-c8eacfd14fbb",
   "metadata": {},
   "source": [
    "# Primeiros Exemplos\n",
    "\n",
    "\n",
    "\n"
   ]
  },
  {
   "cell_type": "code",
   "execution_count": 17,
   "id": "88460259-255a-4817-a46c-5943fe104751",
   "metadata": {},
   "outputs": [
    {
     "name": "stdout",
     "output_type": "stream",
     "text": [
      "Primeiro Programa\n",
      "Help on built-in function print in module builtins:\n",
      "\n",
      "print(*args, sep=' ', end='\\n', file=None, flush=False)\n",
      "    Prints the values to a stream, or to sys.stdout by default.\n",
      "\n",
      "    sep\n",
      "      string inserted between values, default a space.\n",
      "    end\n",
      "      string appended after the last value, default a newline.\n",
      "    file\n",
      "      a file-like object (stream); defaults to the current sys.stdout.\n",
      "    flush\n",
      "      whether to forcibly flush the stream.\n",
      "\n"
     ]
    }
   ],
   "source": [
    "print('Primeiro Programa')\n",
    "1 \\\n",
    " + 2\n",
    "help(print)"
   ]
  },
  {
   "cell_type": "code",
   "execution_count": 18,
   "id": "3075f596-c954-40b4-b762-d8ca0b4ec544",
   "metadata": {},
   "outputs": [
    {
     "name": "stdout",
     "output_type": "stream",
     "text": [
      "6\n",
      "15\n"
     ]
    }
   ],
   "source": [
    "print(1 + 2 + 3)\n",
    "print(4 + 5 + 6) "
   ]
  },
  {
   "cell_type": "markdown",
   "id": "5165e967-c711-4fde-94d8-2b0c75e57b4d",
   "metadata": {},
   "source": [
    "# Tipos Básicos"
   ]
  },
  {
   "cell_type": "code",
   "execution_count": 19,
   "id": "039b8a74-c72c-4e4c-bcba-442d8aa81641",
   "metadata": {},
   "outputs": [
    {
     "name": "stdout",
     "output_type": "stream",
     "text": [
      "True\n",
      "False\n",
      "2.2\n",
      "Aqui eu falo a minha lingua!!!!\n",
      "TBM funciona\n",
      "Você é muitomuitomuitolegal!\n",
      "[1, 2, 3]\n",
      "{'nome': 'Pedro', 'idade': 22}\n",
      "None\n"
     ]
    }
   ],
   "source": [
    "print(True)\n",
    "print(False)\n",
    "print(1.2 + 1)\n",
    "print('Aqui eu falo a minha lingua!!!!')\n",
    "print(\"TBM funciona\")\n",
    "print('Você é '+ 3 *  'muito' +  'legal!')\n",
    "#print(3 + '3') -> anbiguidade\n",
    "print([1, 2, 3])\n",
    "print({'nome': 'Pedro','idade': 22})\n",
    "print(None)"
   ]
  },
  {
   "cell_type": "markdown",
   "id": "2418a634-cbb2-4226-b4a2-7e33c973f7e2",
   "metadata": {},
   "source": [
    "# Variáveis"
   ]
  },
  {
   "cell_type": "code",
   "execution_count": 20,
   "id": "9baea8a9-d839-4db0-8e61-b9827dd2157b",
   "metadata": {},
   "outputs": [
    {
     "name": "stdout",
     "output_type": "stream",
     "text": [
      "15.2\n",
      "Agora eu sou uma string\n"
     ]
    },
    {
     "data": {
      "text/plain": [
       "5.2"
      ]
     },
     "execution_count": 20,
     "metadata": {},
     "output_type": "execute_result"
    }
   ],
   "source": [
    "a = 10\n",
    "b = 5.2\n",
    "print(a + b)\n",
    "a = 'Agora eu sou uma string'\n",
    "print(a)\n",
    "a\n",
    "b"
   ]
  },
  {
   "cell_type": "markdown",
   "id": "9c79c02c-4e2c-4354-8459-6ddc266b3f7a",
   "metadata": {},
   "source": [
    "# Comentarios"
   ]
  },
  {
   "cell_type": "code",
   "execution_count": 21,
   "id": "8043c268-3c6c-4a69-ae28-5bff99688720",
   "metadata": {},
   "outputs": [
    {
     "name": "stdout",
     "output_type": "stream",
     "text": [
      "994.25\n",
      "Fim de verdade\n",
      "Agora sim o fim de verdade\n"
     ]
    }
   ],
   "source": [
    "# vkjbds\n",
    "# jndvjlfsnvljçna\n",
    "# lfnvljçafjldnvljosdfçouj\n",
    "# minhas variáveis\n",
    "salario = 3450.45\n",
    "despesas = 2456.2\n",
    "\"\"\" a idéia é calcular quanto\n",
    "vai sobre no final do mês\n",
    "\"\"\"\n",
    "print(salario - despesas)\n",
    "\n",
    "# print('FIM')\n",
    "print('Fim de verdade') #comentario aqui também vale!!!\n",
    "\n",
    "''' a idéia é calcular quanto\n",
    "vai sobre no final do mês\n",
    "'''\n",
    "print('Agora sim o fim de verdade') #comentario aqui também vale!!!"
   ]
  },
  {
   "cell_type": "markdown",
   "id": "21c2c687-c0b1-4e0e-a8ca-b4e3cd720109",
   "metadata": {},
   "source": [
    "# Operadores Aritiméticos"
   ]
  },
  {
   "cell_type": "code",
   "execution_count": 22,
   "id": "f88806c3-72d7-4206-8371-7af2cb8aa652",
   "metadata": {},
   "outputs": [
    {
     "name": "stdout",
     "output_type": "stream",
     "text": [
      "5\n",
      "-3\n",
      "10.6\n",
      "3.1333333333333333\n",
      "3.0\n",
      "256\n",
      "1\n",
      "24\n"
     ]
    }
   ],
   "source": [
    "print(2 + 3)\n",
    "print(4 - 7)\n",
    "print(2 * 5.3)\n",
    "print(9.4 / 3)\n",
    "print(9.4 // 3)\n",
    "print(2 ** 8)\n",
    "print(10 % 3)\n",
    "a = 12\n",
    "b = a\n",
    "print(a + b)"
   ]
  },
  {
   "cell_type": "markdown",
   "id": "0a9bb184-e61e-408d-9cac-c12a5f3fdd64",
   "metadata": {},
   "source": [
    "# Operadores Relacionais"
   ]
  },
  {
   "cell_type": "code",
   "execution_count": 23,
   "id": "8036b648-0d08-4c8f-9145-d65fa6f2f11a",
   "metadata": {},
   "outputs": [
    {
     "data": {
      "text/plain": [
       "False"
      ]
     },
     "execution_count": 23,
     "metadata": {},
     "output_type": "execute_result"
    }
   ],
   "source": [
    "3 > 4\n",
    "4 >= 3\n",
    "1 < 2\n",
    "3 <= 1\n",
    "3 != 2\n",
    "3 == 3\n",
    "2 == '3'# int + uma string"
   ]
  },
  {
   "cell_type": "markdown",
   "id": "1a2ccd3c-6970-4b97-a817-bda1f1e2913f",
   "metadata": {},
   "source": [
    "# Operadoes de Atribuição"
   ]
  },
  {
   "cell_type": "code",
   "execution_count": 24,
   "id": "bce9d247-f1c0-47a8-a014-0ee5d4a34ea2",
   "metadata": {},
   "outputs": [
    {
     "name": "stdout",
     "output_type": "stream",
     "text": [
      "10\n",
      "15\n",
      "12\n",
      "24\n",
      "6.0\n",
      "2.0\n",
      "256.0\n",
      "1.0\n"
     ]
    }
   ],
   "source": [
    "a = 3\n",
    "a = a + 7\n",
    "print (a)\n",
    "a +=5\n",
    "print(a)\n",
    "a -= 3\n",
    "print(a)\n",
    "a *= 2\n",
    "print(a)\n",
    "a /= 4\n",
    "print(a)\n",
    "a %= 4\n",
    "print(a)\n",
    "a **= 8\n",
    "print(a)\n",
    "a //= 256\n",
    "print(a)"
   ]
  },
  {
   "cell_type": "markdown",
   "id": "5aed61f5-c514-4f08-a4bf-8f659d8d3c04",
   "metadata": {},
   "source": [
    "# Operadores Lógicos"
   ]
  },
  {
   "cell_type": "code",
   "execution_count": 25,
   "id": "e51d0623-99b2-40ea-aea3-44dd47f583bc",
   "metadata": {},
   "outputs": [
    {
     "data": {
      "text/plain": [
       "True"
      ]
     },
     "execution_count": 25,
     "metadata": {},
     "output_type": "execute_result"
    }
   ],
   "source": [
    "True or False\n",
    "7 != 3 and 2 > 3\n",
    "\n",
    "# Tabela da verdade do AND\n",
    "\n",
    "True and True\n",
    "True and False\n",
    "False and True\n",
    "False and False\n",
    "True and True and True and True and True and True\n",
    "True and True and True and False and True and True\n",
    "\n",
    "# Tabela da verdade do OR\n",
    "True or True\n",
    "True or False\n",
    "False or True\n",
    "False or False\n",
    "False or False or True or False or False or False\n",
    "\n",
    "# tabela da verdade XOR\n",
    "True != True\n",
    "True != False\n",
    "False != True\n",
    "False != False\n",
    "\n",
    "# Operador de negação (unário)\n",
    "not True\n",
    "not False\n",
    "not 0\n",
    "not 1\n",
    "not not -1\n",
    "not not True\n",
    "\n",
    "# cuidado!\n",
    "True & True\n",
    "False | True\n",
    "True ^ False"
   ]
  },
  {
   "cell_type": "markdown",
   "id": "eb300502-39f7-491f-b561-e5c8a5353244",
   "metadata": {},
   "source": [
    "# Operadores Unários"
   ]
  },
  {
   "cell_type": "code",
   "execution_count": 26,
   "id": "1aa9d36e-6c3f-4e3b-8a37-fa9c2d4b3ce5",
   "metadata": {},
   "outputs": [
    {
     "data": {
      "text/plain": [
       "True"
      ]
     },
     "execution_count": 26,
     "metadata": {},
     "output_type": "execute_result"
    }
   ],
   "source": [
    "a = 3\n",
    "# a++\n",
    "# a +=1\n",
    "# a\n",
    "# a--\n",
    "++a\n",
    "++a\n",
    "-a\n",
    "+a\n",
    "\n",
    "not 0\n",
    "not 1\n",
    "not -2\n",
    "not False\n",
    "not not True"
   ]
  },
  {
   "cell_type": "markdown",
   "id": "cebe0579-d0bb-434f-8407-47181522503a",
   "metadata": {},
   "source": [
    "# Operadores Ternários"
   ]
  },
  {
   "cell_type": "code",
   "execution_count": 27,
   "id": "6e891946-c178-48fe-a902-f7ac7c8326d1",
   "metadata": {},
   "outputs": [
    {
     "name": "stdout",
     "output_type": "stream",
     "text": [
      "Hoje estou com as roupas molhadas.\n",
      "Hoje estou com as roupas secas.\n",
      "Hoje estou com as roupas molhadas.\n",
      "Hoje estou com as roupas secas.\n"
     ]
    }
   ],
   "source": [
    "estaChovendo = True\n",
    "print('Hoje estou com as roupas ' + ('secas.', 'molhadas.')[estaChovendo])\n",
    "estaChovendo = False\n",
    "print('Hoje estou com as roupas ' + ('secas.', 'molhadas.')[estaChovendo])\n",
    "estaChovendo = True\n",
    "print('Hoje estou com as roupas ' + ('molhadas.' if estaChovendo else 'secas.'))\n",
    "estaChovendo = False\n",
    "print('Hoje estou com as roupas ' + ('molhadas.' if estaChovendo else 'secas.'))"
   ]
  },
  {
   "cell_type": "markdown",
   "id": "5d8a89a5-0664-4d20-964a-d68e2275c66d",
   "metadata": {},
   "source": [
    "# Mais Operadores"
   ]
  },
  {
   "cell_type": "code",
   "execution_count": 28,
   "id": "115aa3a5-a42c-4f53-a897-d208481e0ac7",
   "metadata": {},
   "outputs": [
    {
     "name": "stdout",
     "output_type": "stream",
     "text": [
      "True\n",
      "False\n",
      "True\n",
      "True\n",
      "False\n",
      "True\n",
      "False\n",
      "True\n"
     ]
    }
   ],
   "source": [
    "# Operadores de Menbros\n",
    "\n",
    "lista = [1, 2, 3, 'Ana', 'Carla']\n",
    "print(2 in lista)\n",
    "print('Ana' not in lista)\n",
    "\n",
    "# Operadores de Identidade\n",
    "x = 3 \n",
    "y = x\n",
    "z = 3\n",
    "\n",
    "print(x is y)\n",
    "print(y is z)\n",
    "print(x is not z)\n",
    "\n",
    "listaA = [1, 2, 3]\n",
    "listaB = listaA\n",
    "listaC = [1, 2, 3]\n",
    "\n",
    "print(listaA is listaB)\n",
    "print(listaB is listaC)\n",
    "print(listaA is not listaC)"
   ]
  },
  {
   "cell_type": "markdown",
   "id": "99943017-01ea-4a59-90c6-5f623c35fcfb",
   "metadata": {},
   "source": [
    "# Builtins"
   ]
  },
  {
   "cell_type": "code",
   "execution_count": 29,
   "id": "413e49f7-3162-42b5-ad20-766871ff9cd4",
   "metadata": {},
   "outputs": [
    {
     "name": "stdout",
     "output_type": "stream",
     "text": [
      "3.3333333333333335\n"
     ]
    },
    {
     "data": {
      "text/plain": [
       "['In',\n",
       " 'Out',\n",
       " '_',\n",
       " '_10',\n",
       " '_13',\n",
       " '_15',\n",
       " '_16',\n",
       " '_20',\n",
       " '_23',\n",
       " '_25',\n",
       " '_26',\n",
       " '_4',\n",
       " '_7',\n",
       " '_9',\n",
       " '__',\n",
       " '___',\n",
       " '__builtin__',\n",
       " '__builtins__',\n",
       " '__doc__',\n",
       " '__loader__',\n",
       " '__name__',\n",
       " '__package__',\n",
       " '__spec__',\n",
       " '__vsc_ipynb_file__',\n",
       " '_dh',\n",
       " '_i',\n",
       " '_i1',\n",
       " '_i10',\n",
       " '_i11',\n",
       " '_i12',\n",
       " '_i13',\n",
       " '_i14',\n",
       " '_i15',\n",
       " '_i16',\n",
       " '_i17',\n",
       " '_i18',\n",
       " '_i19',\n",
       " '_i2',\n",
       " '_i20',\n",
       " '_i21',\n",
       " '_i22',\n",
       " '_i23',\n",
       " '_i24',\n",
       " '_i25',\n",
       " '_i26',\n",
       " '_i27',\n",
       " '_i28',\n",
       " '_i29',\n",
       " '_i3',\n",
       " '_i4',\n",
       " '_i5',\n",
       " '_i6',\n",
       " '_i7',\n",
       " '_i8',\n",
       " '_i9',\n",
       " '_ih',\n",
       " '_ii',\n",
       " '_iii',\n",
       " '_oh',\n",
       " 'a',\n",
       " 'b',\n",
       " 'despesas',\n",
       " 'estaChovendo',\n",
       " 'exit',\n",
       " 'get_ipython',\n",
       " 'lista',\n",
       " 'listaA',\n",
       " 'listaB',\n",
       " 'listaC',\n",
       " 'nome',\n",
       " 'open',\n",
       " 'quit',\n",
       " 'salario',\n",
       " 'x',\n",
       " 'y',\n",
       " 'z']"
      ]
     },
     "execution_count": 29,
     "metadata": {},
     "output_type": "execute_result"
    }
   ],
   "source": [
    "# type()\n",
    "type(1)\n",
    "__builtins__.type('Fala galera!!!')\n",
    "__builtins__.print(10 / 3)\n",
    "\n",
    "# help(dir)\n",
    "# vai mostrar o que tem no escopo global\n",
    "# dir()\n",
    "\n",
    "# __builtins__.help(__builtins__.dir)\n",
    "\n",
    "# a = 7\n",
    "# import math\n",
    "# dir()\n",
    "# dir(__builtins__)\n",
    "\n",
    "nome = (\"João da Silva\")\n",
    "type(nome)\n",
    "__builtin__.len(nome)\n",
    "dir()"
   ]
  },
  {
   "cell_type": "markdown",
   "id": "90b23098-6e9e-4f55-ae6e-c417715fe7d1",
   "metadata": {},
   "source": [
    "# CONVERSÃO DE TIPOS"
   ]
  },
  {
   "cell_type": "code",
   "execution_count": 30,
   "id": "ced497b0-6c28-47c4-a5cb-905730e52e8a",
   "metadata": {},
   "outputs": [
    {
     "name": "stdout",
     "output_type": "stream",
     "text": [
      "5\n",
      "23\n",
      "<class 'int'>\n",
      "<class 'str'>\n",
      "5\n",
      "23\n",
      "<class 'str'>\n",
      "5.4\n"
     ]
    },
    {
     "ename": "ValueError",
     "evalue": "invalid literal for int() with base 10: '3.4'",
     "output_type": "error",
     "traceback": [
      "\u001b[1;31m---------------------------------------------------------------------------\u001b[0m",
      "\u001b[1;31mValueError\u001b[0m                                Traceback (most recent call last)",
      "Cell \u001b[1;32mIn[30], line 14\u001b[0m\n\u001b[0;32m     12\u001b[0m \u001b[38;5;28mprint\u001b[39m(\u001b[38;5;28mtype\u001b[39m(\u001b[38;5;28mstr\u001b[39m(a)))\n\u001b[0;32m     13\u001b[0m \u001b[38;5;28mprint\u001b[39m(\u001b[38;5;241m2\u001b[39m \u001b[38;5;241m+\u001b[39m \u001b[38;5;28mfloat\u001b[39m(\u001b[38;5;124m'\u001b[39m\u001b[38;5;124m3.4\u001b[39m\u001b[38;5;124m'\u001b[39m))\n\u001b[1;32m---> 14\u001b[0m \u001b[38;5;28mprint\u001b[39m(\u001b[38;5;241m2\u001b[39m \u001b[38;5;241m+\u001b[39m \u001b[38;5;28mint\u001b[39m(\u001b[38;5;124m'\u001b[39m\u001b[38;5;124m3.4\u001b[39m\u001b[38;5;124m'\u001b[39m))\n",
      "\u001b[1;31mValueError\u001b[0m: invalid literal for int() with base 10: '3.4'"
     ]
    }
   ],
   "source": [
    "print(2 + 3)\n",
    "print(\"2\" + \"3\")\n",
    "# print(2 + \"3\")\n",
    "a = 2 \n",
    "b = '3'\n",
    "print(type(a))\n",
    "print(type(b))\n",
    "\n",
    "print(a + int(b))\n",
    "print(str(a) + b)\n",
    "\n",
    "print(type(str(a)))\n",
    "print(2 + float('3.4'))\n",
    "print(2 + int('3.4'))\n"
   ]
  },
  {
   "cell_type": "markdown",
   "id": "e4df642e-b7b3-4ade-b8e8-0f0610ea756e",
   "metadata": {},
   "source": [
    "# Coeção automática"
   ]
  },
  {
   "cell_type": "code",
   "execution_count": 39,
   "id": "c0e18398-3494-471f-a4e8-ef71da7e0a88",
   "metadata": {},
   "outputs": [
    {
     "data": {
      "text/plain": [
       "float"
      ]
     },
     "execution_count": 39,
     "metadata": {},
     "output_type": "execute_result"
    }
   ],
   "source": [
    "10 / 2\n",
    "type(10 / 2)\n",
    "10 / 3\n",
    "10 // 3 \n",
    "type(10//3)\n",
    "10 // 3.3\n",
    "type(10 // 3.3)\n",
    "10 / 2.5\n",
    "2 + True\n",
    "2 + False\n",
    "type(1 + 2)\n",
    "type(1 + 2.5)"
   ]
  },
  {
   "cell_type": "markdown",
   "id": "e6b7c45c",
   "metadata": {},
   "source": [
    "# Tipos Numeros #01"
   ]
  },
  {
   "cell_type": "code",
   "execution_count": 27,
   "id": "d03e792a",
   "metadata": {},
   "outputs": [
    {
     "name": "stdout",
     "output_type": "stream",
     "text": [
      "2.0\n",
      "7.5\n",
      "12.5\n",
      "<class 'int'>\n",
      "<class 'float'>\n",
      "<class 'float'>\n",
      "False\n",
      "True\n",
      "5\n",
      "5\n",
      "2\n",
      "2\n",
      "<class 'int'>\n",
      "3.6\n",
      "3.6\n"
     ]
    }
   ],
   "source": [
    "dir(int)\n",
    "dir(float)\n",
    "\n",
    "a = 5\n",
    "b = 2.5\n",
    "print(a / b)\n",
    "print(a + b)\n",
    "print(a * b)\n",
    "print(type(a)) \n",
    "print(type(b)) \n",
    "print(type(a - b)) \n",
    "\n",
    "print(b.is_integer()) \n",
    "print(5.0.is_integer())\n",
    "\n",
    "dir(int)\n",
    "print(int.__add__(2, 3))\n",
    "print(2 + 3)\n",
    "\n",
    "print((-2).__abs__())\n",
    "print(abs(-2))\n",
    "print(type(-2))\n",
    "\n",
    "print((-3.6).__abs__())\n",
    "dir(float)\n",
    "print(abs(-3.6))"
   ]
  },
  {
   "cell_type": "markdown",
   "id": "8c9f91bb",
   "metadata": {},
   "source": [
    "# Tipos Numeros #02"
   ]
  },
  {
   "cell_type": "code",
   "execution_count": 41,
   "id": "27053739",
   "metadata": {},
   "outputs": [
    {
     "name": "stdout",
     "output_type": "stream",
     "text": [
      "0.1428571429\n",
      "0.1429\n",
      "3.3000000000000003\n"
     ]
    },
    {
     "data": {
      "text/plain": [
       "Decimal('3.300000000')"
      ]
     },
     "execution_count": 41,
     "metadata": {},
     "output_type": "execute_result"
    }
   ],
   "source": [
    "# 1.1 + 2.2\n",
    "from decimal import Decimal, getcontext\n",
    "print(Decimal(1) / Decimal(7))\n",
    "\n",
    "getcontext().prec = 4\n",
    "print(Decimal(1) / Decimal(7))\n",
    "dir(Decimal)\n",
    "\n",
    "print(1.1 + 2.2)\n",
    "getcontext().prec = 10\n",
    "Decimal(1.1) + Decimal(2.2)\n",
    "# dir()"
   ]
  },
  {
   "cell_type": "markdown",
   "id": "8b4ab212",
   "metadata": {},
   "source": [
    "# Strings #01"
   ]
  },
  {
   "cell_type": "code",
   "execution_count": 80,
   "id": "e2b33b44",
   "metadata": {},
   "outputs": [
    {
     "name": "stdout",
     "output_type": "stream",
     "text": [
      "Saulo Pedro\n",
      "S\n",
      "Teste \" funciona!\n",
      "Texto entre apostrófos pode ter \"aspas\"\n",
      "Texto com múltiplas\n",
      "... linhas\n",
      "Texto com múltiplas\n",
      "\t... linhas\n",
      "Também é possível\n",
      "... com 3 aspas simples\n",
      "A\n",
      "u\n",
      "u\n",
      "Paula\n",
      "Paula\n",
      "Ana\n",
      "a P\n",
      "1234567890\n",
      "1234567890\n",
      "13579\n",
      "24680\n",
      "0987654321\n",
      "08642\n",
      "aluaP anA\n"
     ]
    }
   ],
   "source": [
    "dir(str)\n",
    "nome = 'Saulo Pedro'\n",
    "print(nome)\n",
    "print(nome[0])\n",
    "# Print(nome[0] = 'P')\n",
    "\n",
    "# 'marca d'água'\n",
    "\"Dias D'Avila\" == 'Dias D\\'Avila'\n",
    "texto = 'Texto entre apostrófos pode ter \"aspas\"'\n",
    "print(\"Teste \\\" funciona!\")\n",
    "print(texto)\n",
    "\n",
    "doc = \"\"\"Texto com múltiplas\n",
    "... linhas\"\"\"\n",
    "print(doc)\n",
    "print(\"\"\"Texto com múltiplas\\n\\t... linhas\"\"\")\n",
    "doc2 = '''Também é possível\n",
    "... com 3 aspas simples'''\n",
    "print(doc2)\n"
   ]
  },
  {
   "cell_type": "markdown",
   "id": "ada53578",
   "metadata": {},
   "source": [
    "# Strings #02"
   ]
  },
  {
   "cell_type": "code",
   "execution_count": 81,
   "id": "bc0058e6",
   "metadata": {},
   "outputs": [
    {
     "name": "stdout",
     "output_type": "stream",
     "text": [
      "A\n",
      "u\n",
      "u\n",
      "Paula\n",
      "Paula\n",
      "Ana\n",
      "a P\n",
      "1234567890\n",
      "1234567890\n",
      "13579\n",
      "24680\n",
      "0987654321\n",
      "08642\n",
      "aluaP anA\n"
     ]
    }
   ],
   "source": [
    "\n",
    "nome = 'Ana Paula'\n",
    "print(nome[0])\n",
    "print(nome[6])\n",
    "print(nome[-3])\n",
    "print(nome[4:])\n",
    "print(nome[-5:])\n",
    "print(nome[:3])\n",
    "print(nome[2:5])\n",
    "\n",
    "numeros = \"1234567890\"\n",
    "print(numeros)\n",
    "print(numeros[::])\n",
    "print(numeros[::2])\n",
    "print(numeros[1::2])\n",
    "print(numeros[::-1])\n",
    "print(numeros[::-2])\n",
    "print(nome[::-1])\n"
   ]
  },
  {
   "cell_type": "markdown",
   "id": "1f7a4fef",
   "metadata": {},
   "source": [
    "# Strings #03"
   ]
  },
  {
   "cell_type": "code",
   "execution_count": 100,
   "id": "fe29bce1",
   "metadata": {},
   "outputs": [
    {
     "name": "stdout",
     "output_type": "stream",
     "text": [
      "False\n",
      "True\n",
      "32\n",
      "python é uma linguagem excelente\n",
      "Python é uma linguagem excelente\n",
      "PYTHON É UMA LINGUAGEM EXCELENTE\n",
      "['PYTHON', 'É', 'UMA', 'LINGUAGEM', 'EXCELENTE']\n",
      "['PYTHON É UM', ' LINGU', 'GEM EXCELENTE']\n",
      "['PYTHON É UMA LINGUAG', 'M ', 'XC', 'L', 'NT', '']\n"
     ]
    }
   ],
   "source": [
    "frase = 'Python é uma linguagem excelente'\n",
    "print('py' in frase)\n",
    "print('ing' in frase)\n",
    "print(len(frase))\n",
    "print(frase.lower())\n",
    "print(frase)\n",
    "frase = frase.upper()\n",
    "print(frase)\n",
    "\n",
    "print(frase.split())\n",
    "print(frase.split('A'))\n",
    "print(frase.split('E'))"
   ]
  },
  {
   "cell_type": "markdown",
   "id": "881545c8",
   "metadata": {},
   "source": [
    "# Strings #04"
   ]
  },
  {
   "cell_type": "code",
   "execution_count": 111,
   "id": "04ec0f87",
   "metadata": {},
   "outputs": [
    {
     "name": "stdout",
     "output_type": "stream",
     "text": [
      "123 de Oliveira 4\n",
      "123 de Oliveira 4\n",
      "3\n",
      "True\n",
      "True\n"
     ]
    }
   ],
   "source": [
    "a = '123'\n",
    "b = ' de Oliveira 4'\n",
    "print(a + b)\n",
    "print(a.__add__(b))\n",
    "str.__add__(a, b)\n",
    "# dir(str)\n",
    "print(a.__len__())\n",
    "print('1' in a)\n",
    "print(a.__contains__('1'))"
   ]
  },
  {
   "cell_type": "markdown",
   "id": "4325d7c4",
   "metadata": {},
   "source": [
    "# Listas #01"
   ]
  },
  {
   "cell_type": "code",
   "execution_count": 128,
   "id": "5ddb8e51",
   "metadata": {},
   "outputs": [
    {
     "name": "stdout",
     "output_type": "stream",
     "text": [
      "<class 'list'>\n",
      "0\n",
      "[1, 5]\n",
      "2\n",
      "[1, 5, 'Ana', 'Bia']\n",
      "[1, 'Ana', 'Bia']\n",
      "['Bia', 'Ana', 1]\n"
     ]
    }
   ],
   "source": [
    "lista = []\n",
    "print(type(lista))\n",
    "dir(lista)\n",
    "# help(list)\n",
    "print(len(lista))\n",
    "lista.append(1)\n",
    "lista.append(5)\n",
    "print(lista)\n",
    "print(len(lista))\n",
    "novaLista = [1, 5, 'Ana', 'Bia']\n",
    "print(novaLista)\n",
    "novaLista.remove(5)\n",
    "print(novaLista)\n",
    "novaLista.reverse()\n",
    "print(novaLista)"
   ]
  },
  {
   "cell_type": "markdown",
   "id": "c1d91b3e",
   "metadata": {},
   "source": [
    "# Listas #02"
   ]
  },
  {
   "cell_type": "code",
   "execution_count": 143,
   "id": "1a80fca7",
   "metadata": {},
   "outputs": [
    {
     "name": "stdout",
     "output_type": "stream",
     "text": [
      "3\n",
      "Rebeca\n",
      "True\n",
      "True\n",
      "True\n",
      "1\n",
      "3.1415\n",
      "3.1415\n",
      "1\n"
     ]
    }
   ],
   "source": [
    "lista = [1, 5, 'Rebeca', 'Guilherme', 3.1415]\n",
    "print(lista.index('Guilherme'))\n",
    "# print(lista.index(42))\n",
    "print(lista[2])\n",
    "print(1 in lista)\n",
    "print('Rebeca' in lista)\n",
    "print('Pedro'not in lista)\n",
    "print(lista[0])\n",
    "print(lista[4])\n",
    "# print(lista[5])\n",
    "print(lista[-1])\n",
    "print(lista[-5])"
   ]
  },
  {
   "cell_type": "markdown",
   "id": "458dac28",
   "metadata": {},
   "source": [
    "#Listas #3"
   ]
  },
  {
   "cell_type": "code",
   "execution_count": 153,
   "id": "2cd071eb",
   "metadata": {},
   "outputs": [
    {
     "name": "stdout",
     "output_type": "stream",
     "text": [
      "['Ana', 'Lia', 'Rui', 'Paulo', 'Dani']\n",
      "['Lia', 'Rui']\n",
      "['Lia', 'Rui', 'Paulo']\n",
      "['Lia', 'Rui', 'Paulo', 'Dani']\n",
      "['Ana', 'Lia', 'Rui', 'Paulo']\n",
      "['Ana', 'Lia', 'Rui', 'Paulo', 'Dani']\n",
      "['Ana', 'Rui', 'Dani']\n",
      "['Dani', 'Paulo', 'Rui', 'Lia', 'Ana']\n",
      "['Ana', 'Lia', 'Paulo', 'Dani']\n",
      "['Ana']\n"
     ]
    }
   ],
   "source": [
    "lista = ['Ana', 'Lia', 'Rui', 'Paulo', 'Dani']\n",
    "print(lista)\n",
    "print(lista[1:3])\n",
    "print(lista[1:-1])\n",
    "print(lista[1:])\n",
    "print(lista[:-1])\n",
    "print(lista[:])\n",
    "print(lista[::2])\n",
    "print(lista[::-1])\n",
    "del lista[2]\n",
    "print(lista)\n",
    "del lista[1:]\n",
    "print(lista)"
   ]
  },
  {
   "cell_type": "markdown",
   "id": "41538d18",
   "metadata": {},
   "source": [
    "# Tuplas"
   ]
  },
  {
   "cell_type": "code",
   "execution_count": 170,
   "id": "faedea45",
   "metadata": {},
   "outputs": [
    {
     "name": "stdout",
     "output_type": "stream",
     "text": [
      "<class 'tuple'>\n",
      "<class 'tuple'>\n",
      "um\n",
      "Verde\n",
      "branco\n",
      "('amarelo', 'azul', 'branco')\n",
      "1\n",
      "1\n",
      "0\n",
      "4\n"
     ]
    }
   ],
   "source": [
    "tupla = tuple()\n",
    "tupla = ()\n",
    "print(type(tupla))\n",
    "dir(tupla)\n",
    "# help(tuple)\n",
    "# tupla = ('um')\n",
    "# type(tupla)\n",
    "tupla = ('um', )\n",
    "print(type(tupla))\n",
    "print(tupla[0])\n",
    "# tupla[0] = \"novo\"\n",
    "cores = ('Verde', 'amarelo', 'azul', 'branco')\n",
    "print(cores[0])\n",
    "print(cores[-1])\n",
    "print(cores[1:])\n",
    "\n",
    "print(cores.index('amarelo'))\n",
    "print(cores.count('azul'))\n",
    "print(cores.count('Azul'))\n",
    "print(len(cores))"
   ]
  },
  {
   "cell_type": "markdown",
   "id": "8cf4cebf",
   "metadata": {},
   "source": [
    "# Dicionário #01"
   ]
  },
  {
   "cell_type": "code",
   "execution_count": 188,
   "id": "89d2ba45",
   "metadata": {},
   "outputs": [
    {
     "name": "stdout",
     "output_type": "stream",
     "text": [
      "<class 'dict'>\n",
      "3\n",
      "{'nome': 'prof(a).Ana', 'idade': 38, 'curso': ('Inglês', 'Português')}\n",
      "prof(a).Ana\n",
      "38\n",
      "('Inglês', 'Português')\n",
      "Português\n",
      "dict_keys(['nome', 'idade', 'curso'])\n",
      "dict_values(['prof(a).Ana', 38, ('Inglês', 'Português')])\n",
      "dict_items([('nome', 'prof(a).Ana'), ('idade', 38), ('curso', ('Inglês', 'Português'))])\n",
      "38\n",
      "None\n",
      "[]\n"
     ]
    }
   ],
   "source": [
    "pessoa = {'nome': 'prof(a).Ana', 'idade':38, 'curso':('Inglês', 'Português') }\n",
    "print(type(pessoa))\n",
    "dir(dict)\n",
    "# help(dict)\n",
    "print(len(pessoa))\n",
    "\n",
    "print(pessoa)\n",
    "print(pessoa['nome'])\n",
    "print(pessoa['idade'])\n",
    "print(pessoa['curso'])\n",
    "print(pessoa['curso'][1])\n",
    "# pessoa['tags']\n",
    "print(pessoa.keys())\n",
    "print(pessoa.values())\n",
    "print(pessoa.items())\n",
    "print(pessoa.get('idade'))\n",
    "print(pessoa.get('tag'))\n",
    "print(pessoa.get('tag', []))"
   ]
  },
  {
   "cell_type": "markdown",
   "id": "04dd5a97",
   "metadata": {},
   "source": [
    "# Dicionário #02"
   ]
  },
  {
   "cell_type": "code",
   "execution_count": null,
   "id": "69d7f555",
   "metadata": {},
   "outputs": [],
   "source": []
  },
  {
   "cell_type": "code",
   "execution_count": 197,
   "id": "a72c61a4",
   "metadata": {},
   "outputs": [
    {
     "name": "stdout",
     "output_type": "stream",
     "text": [
      "{'nome': 'Prof.Alberto', 'idade': 44, 'cursos': ['React', 'python', 'Angular']}\n",
      "{'nome': 'Prof.Alberto', 'cursos': ['React', 'python', 'Angular']}\n",
      "{'nome': 'Prof.Alberto', 'cursos': ['React', 'python', 'Angular'], 'idade': 40, 'sexo': 'M'}\n",
      "{'nome': 'Prof.Alberto', 'idade': 40, 'sexo': 'M'}\n",
      "{}\n"
     ]
    }
   ],
   "source": [
    "pessoa = {'nome': 'Prof.Alberto', 'idade': 43, 'cursos': ['React', 'python']}\n",
    "pessoa['idade'] = 44\n",
    "pessoa['cursos'].append('Angular')\n",
    "print(pessoa)\n",
    "pessoa.pop('idade')\n",
    "print(pessoa)\n",
    "pessoa.update({'idade': 40, 'sexo':'M'})\n",
    "print(pessoa)\n",
    "del pessoa['cursos']\n",
    "print(pessoa)\n",
    "pessoa.clear()\n",
    "print(pessoa)"
   ]
  },
  {
   "cell_type": "markdown",
   "id": "e1b32ba2",
   "metadata": {},
   "source": [
    "# Conjuntos"
   ]
  },
  {
   "cell_type": "code",
   "execution_count": 214,
   "id": "a45e17d4",
   "metadata": {},
   "outputs": [
    {
     "name": "stdout",
     "output_type": "stream",
     "text": [
      "<class 'set'>\n",
      "{'r', 'o', 'c', '3', 'd'}\n",
      "True True\n",
      "True\n",
      "{1, 2, 3}\n",
      "{2}\n",
      "{1, 2, 3}\n",
      "True\n",
      "True\n",
      "{1, 3}\n",
      "{1}\n",
      "{1, 3}\n"
     ]
    }
   ],
   "source": [
    "a = {1, 2, 3}\n",
    "print(type(a))\n",
    "# a[0]\n",
    "a = set('coddddd3r')\n",
    "print(a)\n",
    "print('3' in a, 4 not in a)\n",
    "print({1, 2, 3,} == {3, 2, 1, 3})\n",
    "\n",
    "# operacoes\n",
    "c1 = {1, 2}\n",
    "c2 = {2, 3}\n",
    "print(c1.union(c2))\n",
    "print(c1.intersection(c2))\n",
    "c1.update(c2)\n",
    "print(c1)\n",
    "print(c2 <= c1)\n",
    "print(c1 >= c2)\n",
    "print({1, 2, 3,} - {2})\n",
    "print(c1 - c2)\n",
    "c1 -= {2}\n",
    "print(c1)"
   ]
  },
  {
   "cell_type": "markdown",
   "id": "e6ce1693",
   "metadata": {},
   "source": [
    "# Interpolação"
   ]
  },
  {
   "cell_type": "code",
   "execution_count": 235,
   "id": "ddc5f610",
   "metadata": {},
   "outputs": [
    {
     "name": "stdout",
     "output_type": "stream",
     "text": [
      "Nome: Ana Idade: 30 True False\n",
      "Nome: Ana Idade: 30 True False\n",
      "Nome: Ana Idade: 30 1 0\n",
      "Nome: Ana Idade: 30\n",
      "Nome: Ana Idade: 30 257\n",
      "Nome: Ana Idade: 30\n"
     ]
    },
    {
     "ename": "",
     "evalue": "",
     "output_type": "error",
     "traceback": [
      "\u001b[1;31mThe Kernel crashed while executing code in the current cell or a previous cell. \n",
      "\u001b[1;31mPlease review the code in the cell(s) to identify a possible cause of the failure. \n",
      "\u001b[1;31mClick <a href='https://aka.ms/vscodeJupyterKernelCrash'>here</a> for more info. \n",
      "\u001b[1;31mView Jupyter <a href='command:jupyter.viewOutput'>log</a> for further details."
     ]
    }
   ],
   "source": [
    "from string import Template\n",
    "nome, idade = 'Ana', 30\n",
    "\n",
    "print('Nome: %s Idade: %d %r %r' % (nome, idade, True, False)) #mais antiga menos usada\n",
    "print('Nome: %s Idade: %d %s %s' % (nome, idade, True, False))\n",
    "print('Nome: %s Idade: %d %d %d' % (nome, idade, True, False))\n",
    "print('Nome: {0} Idade: {1}'.format(nome, idade)) # python < 3.6 antes dessa versão\n",
    "print(f'Nome: {nome} Idade: {idade} {2 ** 8 + 1}')# python >= 3.6 a partir dessa versão\n",
    "\n",
    "s = Template('Nome: $nome Idade: $idade')\n",
    "print(s.substitute(nome=nome, idade=idade))"
   ]
  }
 ],
 "metadata": {
  "kernelspec": {
   "display_name": "base",
   "language": "python",
   "name": "python3"
  },
  "language_info": {
   "codemirror_mode": {
    "name": "ipython",
    "version": 3
   },
   "file_extension": ".py",
   "mimetype": "text/x-python",
   "name": "python",
   "nbconvert_exporter": "python",
   "pygments_lexer": "ipython3",
   "version": "3.12.7"
  }
 },
 "nbformat": 4,
 "nbformat_minor": 5
}

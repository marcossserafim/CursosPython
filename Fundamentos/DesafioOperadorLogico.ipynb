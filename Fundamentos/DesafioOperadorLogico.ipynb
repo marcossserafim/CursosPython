{
 "cells": [
  {
   "cell_type": "code",
   "execution_count": 18,
   "id": "99ac1f14-be6a-4961-b91c-d7f2ea0666de",
   "metadata": {},
   "outputs": [
    {
     "name": "stdout",
     "output_type": "stream",
     "text": [
      "TV50=True TV32=False Sorvete=True Saudavel=False\n",
      "TV50=False TV32=False Sorvete=False Saudavel=True\n",
      "TV50=False TV32=True Sorvete=True Saudavel=False\n",
      "TV50=False TV32=False Sorvete=False Saudavel=True\n"
     ]
    },
    {
     "data": {
      "text/plain": [
       "'1, False = Resultado'"
      ]
     },
     "execution_count": 18,
     "metadata": {},
     "output_type": "execute_result"
    }
   ],
   "source": [
    "# Desafio Operadores lógicos\n",
    "\n",
    "# Os Trabalhos\n",
    "TrabalhoTerca = True\n",
    "TrabalhoQuinta = True\n",
    "\n",
    "'''\n",
    "-Confirmando os dois : TV 50' + sorvete\n",
    "-Confirmando apenas 1 : TV 32' + sorvete\n",
    "-Nenhum confirmado :  ficar em casa\n",
    "'''\n",
    "TV_50 = TrabalhoTerca and TrabalhoQuinta\n",
    "Sorvete = TrabalhoTerca or TrabalhoQuinta\n",
    "TV_32 = TrabalhoTerca != TrabalhoQuinta\n",
    "maisSaudavel = not Sorvete\n",
    "\n",
    "print(\"TV50={} TV32={} Sorvete={} Saudavel={}\"\n",
    "     .format(TV_50, TV_32, Sorvete, maisSaudavel))\n",
    "TrabalhoTerca = False\n",
    "TrabalhoQuinta = False\n",
    "\n",
    "'''\n",
    "-Confirmando os dois : TV 50' + sorvete\n",
    "-Confirmando apenas 1 : TV 32' + sorvete\n",
    "-Nenhum confirmado :  ficar em casa\n",
    "'''\n",
    "TV_50 = TrabalhoTerca and TrabalhoQuinta\n",
    "Sorvete = TrabalhoTerca or TrabalhoQuinta\n",
    "TV_32 = TrabalhoTerca != TrabalhoQuinta\n",
    "maisSaudavel = not Sorvete\n",
    "\n",
    "print(\"TV50={} TV32={} Sorvete={} Saudavel={}\"\n",
    "     .format(TV_50, TV_32, Sorvete, maisSaudavel))\n",
    "\n",
    "TrabalhoTerca = True\n",
    "TrabalhoQuinta = False\n",
    "\n",
    "'''\n",
    "-Confirmando os dois : TV 50' + sorvete\n",
    "-Confirmando apenas 1 : TV 32' + sorvete\n",
    "-Nenhum confirmado :  ficar em casa\n",
    "'''\n",
    "TV_50 = TrabalhoTerca and TrabalhoQuinta\n",
    "Sorvete = TrabalhoTerca or TrabalhoQuinta\n",
    "TV_32 = TrabalhoTerca != TrabalhoQuinta\n",
    "maisSaudavel = not Sorvete\n",
    "\n",
    "print(\"TV50={} TV32={} Sorvete={} Saudavel={}\"\n",
    "     .format(TV_50, TV_32, Sorvete, maisSaudavel))\n",
    "TrabalhoTerca = False\n",
    "TrabalhoQuinta = False\n",
    "\n",
    "'''\n",
    "-Confirmando os dois : TV 50' + sorvete\n",
    "-Confirmando apenas 1 : TV 32' + sorvete\n",
    "-Nenhum confirmado :  ficar em casa\n",
    "'''\n",
    "TV_50 = TrabalhoTerca and TrabalhoQuinta\n",
    "Sorvete = TrabalhoTerca or TrabalhoQuinta\n",
    "TV_32 = TrabalhoTerca != TrabalhoQuinta\n",
    "maisSaudavel = not Sorvete\n",
    "\n",
    "print(\"TV50={} TV32={} Sorvete={} Saudavel={}\"\n",
    "     .format(TV_50, TV_32, Sorvete, maisSaudavel))\n",
    "\n",
    "'{}, {} = {}' .format(1, False, 'Resultado') "
   ]
  }
 ],
 "metadata": {
  "kernelspec": {
   "display_name": "Python [conda env:anaconda3] *",
   "language": "python",
   "name": "conda-env-anaconda3-py"
  },
  "language_info": {
   "codemirror_mode": {
    "name": "ipython",
    "version": 3
   },
   "file_extension": ".py",
   "mimetype": "text/x-python",
   "name": "python",
   "nbconvert_exporter": "python",
   "pygments_lexer": "ipython3",
   "version": "3.12.7"
  }
 },
 "nbformat": 4,
 "nbformat_minor": 5
}
